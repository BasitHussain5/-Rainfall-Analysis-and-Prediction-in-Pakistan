{
  "nbformat": 4,
  "nbformat_minor": 0,
  "metadata": {
    "colab": {
      "provenance": [],
      "authorship_tag": "ABX9TyOK4L2oKum7OBRg8T+92JbZ",
      "include_colab_link": true
    },
    "kernelspec": {
      "name": "python3",
      "display_name": "Python 3"
    },
    "language_info": {
      "name": "python"
    }
  },
  "cells": [
    {
      "cell_type": "markdown",
      "metadata": {
        "id": "view-in-github",
        "colab_type": "text"
      },
      "source": [
        "<a href=\"https://colab.research.google.com/github/BasitHussain5/-Rainfall-Analysis-and-Prediction-in-Pakistan/blob/main/Threatening_URDU_Language_Detection_from_Tweets_Using_Machine_Learning.ipynb\" target=\"_parent\"><img src=\"https://colab.research.google.com/assets/colab-badge.svg\" alt=\"Open In Colab\"/></a>"
      ]
    },
    {
      "cell_type": "code",
      "execution_count": 98,
      "metadata": {
        "id": "52lcHEp1hjj-"
      },
      "outputs": [],
      "source": [
        "import pandas as pd\n",
        "import matplotlib.pyplot as plt  \n",
        "import random      \n"
      ]
    },
    {
      "cell_type": "code",
      "source": [
        "# Specify the path to your XLSX file\n",
        "file_path = 'dataset.xlsx'\n",
        "\n",
        "# Read the XLSX file into a DataFrame\n",
        "df = pd.read_excel(file_path)\n"
      ],
      "metadata": {
        "id": "ChiWq8jqVbtZ"
      },
      "execution_count": 99,
      "outputs": []
    },
    {
      "cell_type": "code",
      "source": [
        "df.head()"
      ],
      "metadata": {
        "colab": {
          "base_uri": "https://localhost:8080/",
          "height": 206
        },
        "id": "KKfGPmNWmdoz",
        "outputId": "9c4c774f-4831-4059-c7da-8e9a4e30f54e"
      },
      "execution_count": 100,
      "outputs": [
        {
          "output_type": "execute_result",
          "data": {
            "text/plain": [
              "                                              Tweets  label  S/G\n",
              "0                                       بکواس مت کرو      1    1\n",
              "1  تمہاری ہیجڑا فورس ایک نہتے کے سامنے بکری بنی ہ...      1    0\n",
              "2  آفیسر سمیتبھارتی فوجی جہنم واصل،بنکرز تباہ بھا...      1    1\n",
              "3                 غدار منافق میر اللہ تمہیں زلیل کرے      1    1\n",
              "4  اگست پر آپ بھارت کو کیا پیغام دینا چاہیں گے؟ م...      1    0"
            ],
            "text/html": [
              "\n",
              "  <div id=\"df-a43a92b4-7163-4d19-998e-33a5ce0de202\">\n",
              "    <div class=\"colab-df-container\">\n",
              "      <div>\n",
              "<style scoped>\n",
              "    .dataframe tbody tr th:only-of-type {\n",
              "        vertical-align: middle;\n",
              "    }\n",
              "\n",
              "    .dataframe tbody tr th {\n",
              "        vertical-align: top;\n",
              "    }\n",
              "\n",
              "    .dataframe thead th {\n",
              "        text-align: right;\n",
              "    }\n",
              "</style>\n",
              "<table border=\"1\" class=\"dataframe\">\n",
              "  <thead>\n",
              "    <tr style=\"text-align: right;\">\n",
              "      <th></th>\n",
              "      <th>Tweets</th>\n",
              "      <th>label</th>\n",
              "      <th>S/G</th>\n",
              "    </tr>\n",
              "  </thead>\n",
              "  <tbody>\n",
              "    <tr>\n",
              "      <th>0</th>\n",
              "      <td>بکواس مت کرو</td>\n",
              "      <td>1</td>\n",
              "      <td>1</td>\n",
              "    </tr>\n",
              "    <tr>\n",
              "      <th>1</th>\n",
              "      <td>تمہاری ہیجڑا فورس ایک نہتے کے سامنے بکری بنی ہ...</td>\n",
              "      <td>1</td>\n",
              "      <td>0</td>\n",
              "    </tr>\n",
              "    <tr>\n",
              "      <th>2</th>\n",
              "      <td>آفیسر سمیتبھارتی فوجی جہنم واصل،بنکرز تباہ بھا...</td>\n",
              "      <td>1</td>\n",
              "      <td>1</td>\n",
              "    </tr>\n",
              "    <tr>\n",
              "      <th>3</th>\n",
              "      <td>غدار منافق میر اللہ تمہیں زلیل کرے</td>\n",
              "      <td>1</td>\n",
              "      <td>1</td>\n",
              "    </tr>\n",
              "    <tr>\n",
              "      <th>4</th>\n",
              "      <td>اگست پر آپ بھارت کو کیا پیغام دینا چاہیں گے؟ م...</td>\n",
              "      <td>1</td>\n",
              "      <td>0</td>\n",
              "    </tr>\n",
              "  </tbody>\n",
              "</table>\n",
              "</div>\n",
              "      <button class=\"colab-df-convert\" onclick=\"convertToInteractive('df-a43a92b4-7163-4d19-998e-33a5ce0de202')\"\n",
              "              title=\"Convert this dataframe to an interactive table.\"\n",
              "              style=\"display:none;\">\n",
              "        \n",
              "  <svg xmlns=\"http://www.w3.org/2000/svg\" height=\"24px\"viewBox=\"0 0 24 24\"\n",
              "       width=\"24px\">\n",
              "    <path d=\"M0 0h24v24H0V0z\" fill=\"none\"/>\n",
              "    <path d=\"M18.56 5.44l.94 2.06.94-2.06 2.06-.94-2.06-.94-.94-2.06-.94 2.06-2.06.94zm-11 1L8.5 8.5l.94-2.06 2.06-.94-2.06-.94L8.5 2.5l-.94 2.06-2.06.94zm10 10l.94 2.06.94-2.06 2.06-.94-2.06-.94-.94-2.06-.94 2.06-2.06.94z\"/><path d=\"M17.41 7.96l-1.37-1.37c-.4-.4-.92-.59-1.43-.59-.52 0-1.04.2-1.43.59L10.3 9.45l-7.72 7.72c-.78.78-.78 2.05 0 2.83L4 21.41c.39.39.9.59 1.41.59.51 0 1.02-.2 1.41-.59l7.78-7.78 2.81-2.81c.8-.78.8-2.07 0-2.86zM5.41 20L4 18.59l7.72-7.72 1.47 1.35L5.41 20z\"/>\n",
              "  </svg>\n",
              "      </button>\n",
              "      \n",
              "  <style>\n",
              "    .colab-df-container {\n",
              "      display:flex;\n",
              "      flex-wrap:wrap;\n",
              "      gap: 12px;\n",
              "    }\n",
              "\n",
              "    .colab-df-convert {\n",
              "      background-color: #E8F0FE;\n",
              "      border: none;\n",
              "      border-radius: 50%;\n",
              "      cursor: pointer;\n",
              "      display: none;\n",
              "      fill: #1967D2;\n",
              "      height: 32px;\n",
              "      padding: 0 0 0 0;\n",
              "      width: 32px;\n",
              "    }\n",
              "\n",
              "    .colab-df-convert:hover {\n",
              "      background-color: #E2EBFA;\n",
              "      box-shadow: 0px 1px 2px rgba(60, 64, 67, 0.3), 0px 1px 3px 1px rgba(60, 64, 67, 0.15);\n",
              "      fill: #174EA6;\n",
              "    }\n",
              "\n",
              "    [theme=dark] .colab-df-convert {\n",
              "      background-color: #3B4455;\n",
              "      fill: #D2E3FC;\n",
              "    }\n",
              "\n",
              "    [theme=dark] .colab-df-convert:hover {\n",
              "      background-color: #434B5C;\n",
              "      box-shadow: 0px 1px 3px 1px rgba(0, 0, 0, 0.15);\n",
              "      filter: drop-shadow(0px 1px 2px rgba(0, 0, 0, 0.3));\n",
              "      fill: #FFFFFF;\n",
              "    }\n",
              "  </style>\n",
              "\n",
              "      <script>\n",
              "        const buttonEl =\n",
              "          document.querySelector('#df-a43a92b4-7163-4d19-998e-33a5ce0de202 button.colab-df-convert');\n",
              "        buttonEl.style.display =\n",
              "          google.colab.kernel.accessAllowed ? 'block' : 'none';\n",
              "\n",
              "        async function convertToInteractive(key) {\n",
              "          const element = document.querySelector('#df-a43a92b4-7163-4d19-998e-33a5ce0de202');\n",
              "          const dataTable =\n",
              "            await google.colab.kernel.invokeFunction('convertToInteractive',\n",
              "                                                     [key], {});\n",
              "          if (!dataTable) return;\n",
              "\n",
              "          const docLinkHtml = 'Like what you see? Visit the ' +\n",
              "            '<a target=\"_blank\" href=https://colab.research.google.com/notebooks/data_table.ipynb>data table notebook</a>'\n",
              "            + ' to learn more about interactive tables.';\n",
              "          element.innerHTML = '';\n",
              "          dataTable['output_type'] = 'display_data';\n",
              "          await google.colab.output.renderOutput(dataTable, element);\n",
              "          const docLink = document.createElement('div');\n",
              "          docLink.innerHTML = docLinkHtml;\n",
              "          element.appendChild(docLink);\n",
              "        }\n",
              "      </script>\n",
              "    </div>\n",
              "  </div>\n",
              "  "
            ]
          },
          "metadata": {},
          "execution_count": 100
        }
      ]
    },
    {
      "cell_type": "code",
      "source": [
        "df[\"Tweets\"][4]"
      ],
      "metadata": {
        "colab": {
          "base_uri": "https://localhost:8080/",
          "height": 35
        },
        "id": "b8ZtxqQ-YOYX",
        "outputId": "32121e94-d4d9-4173-b61a-71fff4da64f3"
      },
      "execution_count": 101,
      "outputs": [
        {
          "output_type": "execute_result",
          "data": {
            "text/plain": [
              "'اگست پر آپ بھارت کو کیا پیغام دینا چاہیں گے؟ میرا یہ پیغام ھے کہ کشمیر سے نکل جاو ورنہ کتے کی موت مارے جاو گے کشمیر ہمارا ھے'"
            ],
            "application/vnd.google.colaboratory.intrinsic+json": {
              "type": "string"
            }
          },
          "metadata": {},
          "execution_count": 101
        }
      ]
    },
    {
      "cell_type": "code",
      "source": [
        "import matplotlib.pyplot as plt\n",
        "\n",
        "# Generate some random data\n",
        "x = df[\"Tweets\"]\n",
        "y = df[\"label\"]\n",
        "\n",
        "# Create a scatter plot\n",
        "plt.scatter(x, y)\n",
        "\n",
        "# Add labels and title\n",
        "plt.xlabel('X-axis')\n",
        "plt.ylabel('Y-axis')\n",
        "plt.title('Scatter Plot')\n",
        "\n",
        "# Display the plot\n",
        "plt.show()\n"
      ],
      "metadata": {
        "colab": {
          "base_uri": "https://localhost:8080/",
          "height": 1000
        },
        "id": "qdLHMBWn-CJN",
        "outputId": "ea6495e7-c0ea-4251-f90d-343838d2abac"
      },
      "execution_count": 102,
      "outputs": [
        {
          "output_type": "stream",
          "name": "stderr",
          "text": [
            "/usr/local/lib/python3.10/dist-packages/IPython/core/pylabtools.py:151: UserWarning: Glyph 1729 (\\N{ARABIC LETTER HEH GOAL}) missing from current font.\n",
            "  fig.canvas.print_figure(bytes_io, **kw)\n",
            "/usr/local/lib/python3.10/dist-packages/IPython/core/pylabtools.py:151: UserWarning: Matplotlib currently does not support Arabic natively.\n",
            "  fig.canvas.print_figure(bytes_io, **kw)\n",
            "/usr/local/lib/python3.10/dist-packages/IPython/core/pylabtools.py:151: UserWarning: Glyph 1746 (\\N{ARABIC LETTER YEH BARREE}) missing from current font.\n",
            "  fig.canvas.print_figure(bytes_io, **kw)\n",
            "/usr/local/lib/python3.10/dist-packages/IPython/core/pylabtools.py:151: UserWarning: Glyph 1748 (\\N{ARABIC FULL STOP}) missing from current font.\n",
            "  fig.canvas.print_figure(bytes_io, **kw)\n",
            "/usr/local/lib/python3.10/dist-packages/IPython/core/pylabtools.py:151: UserWarning: Glyph 1747 (\\N{ARABIC LETTER YEH BARREE WITH HAMZA ABOVE}) missing from current font.\n",
            "  fig.canvas.print_figure(bytes_io, **kw)\n",
            "/usr/local/lib/python3.10/dist-packages/IPython/core/pylabtools.py:151: UserWarning: Glyph 64431 (\\N{ARABIC LETTER YEH BARREE FINAL FORM}) missing from current font.\n",
            "  fig.canvas.print_figure(bytes_io, **kw)\n",
            "/usr/local/lib/python3.10/dist-packages/IPython/core/pylabtools.py:151: UserWarning: Glyph 1730 (\\N{ARABIC LETTER HEH GOAL WITH HAMZA ABOVE}) missing from current font.\n",
            "  fig.canvas.print_figure(bytes_io, **kw)\n",
            "/usr/local/lib/python3.10/dist-packages/IPython/core/pylabtools.py:151: UserWarning: Glyph 1656 (\\N{ARABIC LETTER HIGH HAMZA YEH}) missing from current font.\n",
            "  fig.canvas.print_figure(bytes_io, **kw)\n",
            "/usr/local/lib/python3.10/dist-packages/IPython/core/pylabtools.py:151: UserWarning: Glyph 1654 (\\N{ARABIC LETTER HIGH HAMZA WAW}) missing from current font.\n",
            "  fig.canvas.print_figure(bytes_io, **kw)\n",
            "/usr/local/lib/python3.10/dist-packages/IPython/core/pylabtools.py:151: UserWarning: Glyph 65018 (\\N{ARABIC LIGATURE SALLALLAHOU ALAYHE WASALLAM}) missing from current font.\n",
            "  fig.canvas.print_figure(bytes_io, **kw)\n",
            "/usr/local/lib/python3.10/dist-packages/IPython/core/pylabtools.py:151: UserWarning: Glyph 1625 (\\N{ARABIC ZWARAKAY}) missing from current font.\n",
            "  fig.canvas.print_figure(bytes_io, **kw)\n",
            "/usr/local/lib/python3.10/dist-packages/IPython/core/pylabtools.py:151: UserWarning: Glyph 1555 (\\N{ARABIC SIGN RADI ALLAHOU ANHU}) missing from current font.\n",
            "  fig.canvas.print_figure(bytes_io, **kw)\n",
            "/usr/local/lib/python3.10/dist-packages/IPython/core/pylabtools.py:151: UserWarning: Glyph 65010 (\\N{ARABIC LIGATURE ALLAH ISOLATED FORM}) missing from current font.\n",
            "  fig.canvas.print_figure(bytes_io, **kw)\n",
            "/usr/local/lib/python3.10/dist-packages/IPython/core/pylabtools.py:151: UserWarning: Glyph 1554 (\\N{ARABIC SIGN RAHMATULLAH ALAYHE}) missing from current font.\n",
            "  fig.canvas.print_figure(bytes_io, **kw)\n",
            "/usr/local/lib/python3.10/dist-packages/IPython/core/pylabtools.py:151: UserWarning: Glyph 64425 (\\N{ARABIC LETTER HEH GOAL MEDIAL FORM}) missing from current font.\n",
            "  fig.canvas.print_figure(bytes_io, **kw)\n",
            "/usr/local/lib/python3.10/dist-packages/IPython/core/pylabtools.py:151: UserWarning: Glyph 64422 (\\N{ARABIC LETTER HEH GOAL ISOLATED FORM}) missing from current font.\n",
            "  fig.canvas.print_figure(bytes_io, **kw)\n",
            "/usr/local/lib/python3.10/dist-packages/IPython/core/pylabtools.py:151: UserWarning: Glyph 1553 (\\N{ARABIC SIGN ALAYHE ASSALLAM}) missing from current font.\n",
            "  fig.canvas.print_figure(bytes_io, **kw)\n",
            "/usr/local/lib/python3.10/dist-packages/IPython/core/pylabtools.py:151: UserWarning: Glyph 64423 (\\N{ARABIC LETTER HEH GOAL FINAL FORM}) missing from current font.\n",
            "  fig.canvas.print_figure(bytes_io, **kw)\n",
            "/usr/local/lib/python3.10/dist-packages/IPython/core/pylabtools.py:151: UserWarning: Glyph 64424 (\\N{ARABIC LETTER HEH GOAL INITIAL FORM}) missing from current font.\n",
            "  fig.canvas.print_figure(bytes_io, **kw)\n",
            "/usr/local/lib/python3.10/dist-packages/IPython/core/pylabtools.py:151: UserWarning: Glyph 65019 (\\N{ARABIC LIGATURE JALLAJALALOUHOU}) missing from current font.\n",
            "  fig.canvas.print_figure(bytes_io, **kw)\n",
            "/usr/local/lib/python3.10/dist-packages/IPython/core/pylabtools.py:151: UserWarning: Glyph 1731 (\\N{ARABIC LETTER TEH MARBUTA GOAL}) missing from current font.\n",
            "  fig.canvas.print_figure(bytes_io, **kw)\n",
            "/usr/local/lib/python3.10/dist-packages/IPython/core/pylabtools.py:151: UserWarning: Glyph 1549 (\\N{ARABIC DATE SEPARATOR}) missing from current font.\n",
            "  fig.canvas.print_figure(bytes_io, **kw)\n"
          ]
        },
        {
          "output_type": "display_data",
          "data": {
            "text/plain": [
              "<Figure size 640x480 with 1 Axes>"
            ],
            "image/png": "[encoded data removed]"
          },
          "metadata": {}
        }
      ]
    },
    {
      "cell_type": "code",
      "source": [
        "all_positive_tweets = df[\"label\"] == 1\n",
        "all_negative_tweets =  df[\"label\"] == 0"
      ],
      "metadata": {
        "id": "Dqro0p-yUX8Q"
      },
      "execution_count": 103,
      "outputs": []
    },
    {
      "cell_type": "code",
      "source": [
        "# Declare a figure with a custom size\n",
        "fig = plt.figure(figsize=(5, 5))\n",
        "\n",
        "# labels for the two classes\n",
        "labels = 1, 0\n",
        "\n",
        "# Sizes for each slide\n",
        "sizes = [len(all_positive_tweets), len(all_negative_tweets)] \n",
        "\n",
        "# Declare pie chart, where the slices will be ordered and plotted counter-clockwise:\n",
        "plt.pie(sizes, labels=labels, autopct='%1.1f%%',\n",
        "        shadow=True, startangle=90)\n",
        "\n",
        "# Equal aspect ratio ensures that pie is drawn as a circle.\n",
        "plt.axis('equal')  \n",
        "\n",
        "# Display the chart\n",
        "plt.show()"
      ],
      "metadata": {
        "colab": {
          "base_uri": "https://localhost:8080/",
          "height": 422
        },
        "id": "XtxIhBGwmfYC",
        "outputId": "4ad064bf-4a72-47bb-b99e-3fc9583cfc80"
      },
      "execution_count": 104,
      "outputs": [
        {
          "output_type": "display_data",
          "data": {
            "text/plain": [
              "<Figure size 500x500 with 1 Axes>"
            ],
            "image/png": "[encoded data removed]"
          },
          "metadata": {}
        }
      ]
    },
    {
      "cell_type": "code",
      "source": [
        "print('Number of positive tweets: ', len(all_positive_tweets))\n",
        "print('Number of negative tweets: ', len(all_negative_tweets))\n",
        "\n",
        "print('\\nThe type of all_positive_tweets is: ', type(all_positive_tweets))\n",
        "print('The type of a tweet entry is: ', type(all_negative_tweets[0]))"
      ],
      "metadata": {
        "colab": {
          "base_uri": "https://localhost:8080/"
        },
        "id": "rzs6k4c1qZFv",
        "outputId": "cf5c9a2e-b060-44b6-df27-58ce8af9ede4"
      },
      "execution_count": 105,
      "outputs": [
        {
          "output_type": "stream",
          "name": "stdout",
          "text": [
            "Number of positive tweets:  3564\n",
            "Number of negative tweets:  3564\n",
            "\n",
            "The type of all_positive_tweets is:  <class 'pandas.core.series.Series'>\n",
            "The type of a tweet entry is:  <class 'numpy.bool_'>\n"
          ]
        }
      ]
    },
    {
      "cell_type": "markdown",
      "source": [
        "**Preprocess raw text for Sentiment analysis**\n",
        "\n",
        "Data preprocessing is one of the critical steps in any machine learning project. It includes cleaning and formatting the data before feeding into a machine learning algorithm. For NLP, the preprocessing steps are comprised of the following tasks:\n",
        "\n",
        "Tokenizing the string\n",
        "\n",
        "Lowercasing\n",
        "\n",
        "Removing stop words and punctuation\n",
        "\n",
        "Stemming"
      ],
      "metadata": {
        "id": "Y_jaafEVVOtq"
      }
    },
    {
      "cell_type": "markdown",
      "source": [
        "**Remove punctuations**"
      ],
      "metadata": {
        "id": "4-Ofk2NDXKno"
      }
    },
    {
      "cell_type": "code",
      "source": [
        "import string\n",
        "\n",
        "# Assuming you have a DataFrame named 'df' with a text column 'x'\n",
        "\n",
        "# Define a string of all punctuation characters specific to Urdu\n",
        "urdu_punctuations = \"؛؟،٫٬«»‘’“”(){}[]:;،.?!~@#$%^&*+-*/_=<>\"\n",
        "\n",
        "# Remove punctuations from the 'x' column in the DataFrame\n",
        "df['Tweets'] = df['Tweets'].apply(lambda text: text.translate(str.maketrans('', '', urdu_punctuations)))\n"
      ],
      "metadata": {
        "id": "RaoevilMpvBi"
      },
      "execution_count": 106,
      "outputs": []
    },
    {
      "cell_type": "code",
      "source": [
        "df[\"Tweets\"][4]"
      ],
      "metadata": {
        "colab": {
          "base_uri": "https://localhost:8080/",
          "height": 35
        },
        "id": "Wq2usn07pydZ",
        "outputId": "c1e51ecd-76ee-4dfc-b2aa-808565c99162"
      },
      "execution_count": 107,
      "outputs": [
        {
          "output_type": "execute_result",
          "data": {
            "text/plain": [
              "'اگست پر آپ بھارت کو کیا پیغام دینا چاہیں گے میرا یہ پیغام ھے کہ کشمیر سے نکل جاو ورنہ کتے کی موت مارے جاو گے کشمیر ہمارا ھے'"
            ],
            "application/vnd.google.colaboratory.intrinsic+json": {
              "type": "string"
            }
          },
          "metadata": {},
          "execution_count": 107
        }
      ]
    },
    {
      "cell_type": "markdown",
      "source": [
        "**Tokenize the string**"
      ],
      "metadata": {
        "id": "d9ZfpwUtYtAt"
      }
    },
    {
      "cell_type": "code",
      "source": [
        "import nltk\n",
        "from nltk.tokenize import RegexpTokenizer\n",
        "\n",
        "# Define a custom Urdu tokenizer (replace with your own implementation)\n",
        "urdu_tokenizer = RegexpTokenizer(r'\\w+')\n",
        "\n",
        "# Tokenize the 'x' column in the DataFrame\n",
        "df['Tweets'] = df['Tweets'].apply(lambda text: urdu_tokenizer.tokenize(text))"
      ],
      "metadata": {
        "id": "Y2lfdNVLs7CP"
      },
      "execution_count": 108,
      "outputs": []
    },
    {
      "cell_type": "code",
      "source": [
        "df.head()"
      ],
      "metadata": {
        "colab": {
          "base_uri": "https://localhost:8080/",
          "height": 206
        },
        "id": "4lPgt2QbvexX",
        "outputId": "4565bdf8-176a-49ea-f536-01e7d26b04a0"
      },
      "execution_count": 109,
      "outputs": [
        {
          "output_type": "execute_result",
          "data": {
            "text/plain": [
              "                                              Tweets  label  S/G\n",
              "0                                   [بکواس, مت, کرو]      1    1\n",
              "1  [تمہاری, ہیجڑا, فورس, ایک, نہتے, کے, سامنے, بک...      1    0\n",
              "2  [آفیسر, سمیتبھارتی, فوجی, جہنم, واصلبنکرز, تبا...      1    1\n",
              "3         [غدار, منافق, میر, اللہ, تمہیں, زلیل, کرے]      1    1\n",
              "4  [اگست, پر, آپ, بھارت, کو, کیا, پیغام, دینا, چا...      1    0"
            ],
            "text/html": [
              "\n",
              "  <div id=\"df-2ff245b4-6688-4fa4-84f4-8ee4c0179716\">\n",
              "    <div class=\"colab-df-container\">\n",
              "      <div>\n",
              "<style scoped>\n",
              "    .dataframe tbody tr th:only-of-type {\n",
              "        vertical-align: middle;\n",
              "    }\n",
              "\n",
              "    .dataframe tbody tr th {\n",
              "        vertical-align: top;\n",
              "    }\n",
              "\n",
              "    .dataframe thead th {\n",
              "        text-align: right;\n",
              "    }\n",
              "</style>\n",
              "<table border=\"1\" class=\"dataframe\">\n",
              "  <thead>\n",
              "    <tr style=\"text-align: right;\">\n",
              "      <th></th>\n",
              "      <th>Tweets</th>\n",
              "      <th>label</th>\n",
              "      <th>S/G</th>\n",
              "    </tr>\n",
              "  </thead>\n",
              "  <tbody>\n",
              "    <tr>\n",
              "      <th>0</th>\n",
              "      <td>[بکواس, مت, کرو]</td>\n",
              "      <td>1</td>\n",
              "      <td>1</td>\n",
              "    </tr>\n",
              "    <tr>\n",
              "      <th>1</th>\n",
              "      <td>[تمہاری, ہیجڑا, فورس, ایک, نہتے, کے, سامنے, بک...</td>\n",
              "      <td>1</td>\n",
              "      <td>0</td>\n",
              "    </tr>\n",
              "    <tr>\n",
              "      <th>2</th>\n",
              "      <td>[آفیسر, سمیتبھارتی, فوجی, جہنم, واصلبنکرز, تبا...</td>\n",
              "      <td>1</td>\n",
              "      <td>1</td>\n",
              "    </tr>\n",
              "    <tr>\n",
              "      <th>3</th>\n",
              "      <td>[غدار, منافق, میر, اللہ, تمہیں, زلیل, کرے]</td>\n",
              "      <td>1</td>\n",
              "      <td>1</td>\n",
              "    </tr>\n",
              "    <tr>\n",
              "      <th>4</th>\n",
              "      <td>[اگست, پر, آپ, بھارت, کو, کیا, پیغام, دینا, چا...</td>\n",
              "      <td>1</td>\n",
              "      <td>0</td>\n",
              "    </tr>\n",
              "  </tbody>\n",
              "</table>\n",
              "</div>\n",
              "      <button class=\"colab-df-convert\" onclick=\"convertToInteractive('df-2ff245b4-6688-4fa4-84f4-8ee4c0179716')\"\n",
              "              title=\"Convert this dataframe to an interactive table.\"\n",
              "              style=\"display:none;\">\n",
              "        \n",
              "  <svg xmlns=\"http://www.w3.org/2000/svg\" height=\"24px\"viewBox=\"0 0 24 24\"\n",
              "       width=\"24px\">\n",
              "    <path d=\"M0 0h24v24H0V0z\" fill=\"none\"/>\n",
              "    <path d=\"M18.56 5.44l.94 2.06.94-2.06 2.06-.94-2.06-.94-.94-2.06-.94 2.06-2.06.94zm-11 1L8.5 8.5l.94-2.06 2.06-.94-2.06-.94L8.5 2.5l-.94 2.06-2.06.94zm10 10l.94 2.06.94-2.06 2.06-.94-2.06-.94-.94-2.06-.94 2.06-2.06.94z\"/><path d=\"M17.41 7.96l-1.37-1.37c-.4-.4-.92-.59-1.43-.59-.52 0-1.04.2-1.43.59L10.3 9.45l-7.72 7.72c-.78.78-.78 2.05 0 2.83L4 21.41c.39.39.9.59 1.41.59.51 0 1.02-.2 1.41-.59l7.78-7.78 2.81-2.81c.8-.78.8-2.07 0-2.86zM5.41 20L4 18.59l7.72-7.72 1.47 1.35L5.41 20z\"/>\n",
              "  </svg>\n",
              "      </button>\n",
              "      \n",
              "  <style>\n",
              "    .colab-df-container {\n",
              "      display:flex;\n",
              "      flex-wrap:wrap;\n",
              "      gap: 12px;\n",
              "    }\n",
              "\n",
              "    .colab-df-convert {\n",
              "      background-color: #E8F0FE;\n",
              "      border: none;\n",
              "      border-radius: 50%;\n",
              "      cursor: pointer;\n",
              "      display: none;\n",
              "      fill: #1967D2;\n",
              "      height: 32px;\n",
              "      padding: 0 0 0 0;\n",
              "      width: 32px;\n",
              "    }\n",
              "\n",
              "    .colab-df-convert:hover {\n",
              "      background-color: #E2EBFA;\n",
              "      box-shadow: 0px 1px 2px rgba(60, 64, 67, 0.3), 0px 1px 3px 1px rgba(60, 64, 67, 0.15);\n",
              "      fill: #174EA6;\n",
              "    }\n",
              "\n",
              "    [theme=dark] .colab-df-convert {\n",
              "      background-color: #3B4455;\n",
              "      fill: #D2E3FC;\n",
              "    }\n",
              "\n",
              "    [theme=dark] .colab-df-convert:hover {\n",
              "      background-color: #434B5C;\n",
              "      box-shadow: 0px 1px 3px 1px rgba(0, 0, 0, 0.15);\n",
              "      filter: drop-shadow(0px 1px 2px rgba(0, 0, 0, 0.3));\n",
              "      fill: #FFFFFF;\n",
              "    }\n",
              "  </style>\n",
              "\n",
              "      <script>\n",
              "        const buttonEl =\n",
              "          document.querySelector('#df-2ff245b4-6688-4fa4-84f4-8ee4c0179716 button.colab-df-convert');\n",
              "        buttonEl.style.display =\n",
              "          google.colab.kernel.accessAllowed ? 'block' : 'none';\n",
              "\n",
              "        async function convertToInteractive(key) {\n",
              "          const element = document.querySelector('#df-2ff245b4-6688-4fa4-84f4-8ee4c0179716');\n",
              "          const dataTable =\n",
              "            await google.colab.kernel.invokeFunction('convertToInteractive',\n",
              "                                                     [key], {});\n",
              "          if (!dataTable) return;\n",
              "\n",
              "          const docLinkHtml = 'Like what you see? Visit the ' +\n",
              "            '<a target=\"_blank\" href=https://colab.research.google.com/notebooks/data_table.ipynb>data table notebook</a>'\n",
              "            + ' to learn more about interactive tables.';\n",
              "          element.innerHTML = '';\n",
              "          dataTable['output_type'] = 'display_data';\n",
              "          await google.colab.output.renderOutput(dataTable, element);\n",
              "          const docLink = document.createElement('div');\n",
              "          docLink.innerHTML = docLinkHtml;\n",
              "          element.appendChild(docLink);\n",
              "        }\n",
              "      </script>\n",
              "    </div>\n",
              "  </div>\n",
              "  "
            ]
          },
          "metadata": {},
          "execution_count": 109
        }
      ]
    },
    {
      "cell_type": "markdown",
      "source": [
        "**Remove stop words**"
      ],
      "metadata": {
        "id": "voW6AMWXZjr6"
      }
    },
    {
      "cell_type": "code",
      "source": [
        "# Open the text file in read mode\n",
        "with open(\"stopwords-ur.json.txt\", 'r') as file:\n",
        "    content = file.read()\n",
        "\n",
        "print(content)"
      ],
      "metadata": {
        "id": "dcyUy9adaFBa",
        "outputId": "401fd7ea-f88c-48c4-c5a9-bfb30cd0227f",
        "colab": {
          "base_uri": "https://localhost:8080/"
        }
      },
      "execution_count": 110,
      "outputs": [
        {
          "output_type": "stream",
          "name": "stdout",
          "text": [
            "[\"آئی\",\"آئے\",\"آج\",\"آخر\",\"آخرکبر\",\"آدهی\",\"آًب\",\"آٹھ\",\"آیب\",\"اة\",\"اخبزت\",\"اختتبم\",\"ادھر\",\"ارد\",\"اردگرد\",\"ارکبى\",\"اش\",\"اضتعوبل\",\"اضتعوبلات\",\"اضطرذ\",\"اضکب\",\"اضکی\",\"اضکے\",\"اطراف\",\"اغیب\",\"افراد\",\"الگ\",\"اور\",\"اوًچب\",\"اوًچبئی\",\"اوًچی\",\"اوًچے\",\"اى\",\"اً\",\"اًذر\",\"اًہیں\",\"اٹھبًب\",\"اپٌب\",\"اپٌے\",\"اچھب\",\"اچھی\",\"اچھے\",\"اکثر\",\"اکٹھب\",\"اکٹھی\",\"اکٹھے\",\"اکیلا\",\"اکیلی\",\"اکیلے\",\"اگرچہ\",\"اہن\",\"ایطے\",\"ایک\",\"ب\",\"ت\",\"تبزٍ\",\"تت\",\"تر\",\"ترتیت\",\"تریي\",\"تعذاد\",\"تن\",\"تو\",\"توبم\",\"توہی\",\"توہیں\",\"تٌہب\",\"تک\",\"تھب\",\"تھوڑا\",\"تھوڑی\",\"تھوڑے\",\"تھی\",\"تھے\",\"تیي\",\"ثب\",\"ثبئیں\",\"ثبترتیت\",\"ثبری\",\"ثبرے\",\"ثبعث\",\"ثبلا\",\"ثبلترتیت\",\"ثبہر\",\"ثدبئے\",\"ثرآں\",\"ثراں\",\"ثرش\",\"ثعذ\",\"ثغیر\",\"ثلٌذ\",\"ثلٌذوثبلا\",\"ثلکہ\",\"ثي\",\"ثٌب\",\"ثٌبرہب\",\"ثٌبرہی\",\"ثٌبرہے\",\"ثٌبًب\",\"ثٌذ\",\"ثٌذکرو\",\"ثٌذکرًب\",\"ثٌذی\",\"ثڑا\",\"ثڑوں\",\"ثڑی\",\"ثڑے\",\"ثھر\",\"ثھرا\",\"ثھراہوا\",\"ثھرپور\",\"ثھی\",\"ثہت\",\"ثہتر\",\"ثہتری\",\"ثہتریي\",\"ثیچ\",\"ج\",\"خب\",\"خبرہب\",\"خبرہی\",\"خبرہے\",\"خبهوظ\",\"خبًب\",\"خبًتب\",\"خبًتی\",\"خبًتے\",\"خبًٌب\",\"خت\",\"ختن\",\"خجکہ\",\"خص\",\"خططرذ\",\"خلذی\",\"خو\",\"خواى\",\"خوًہی\",\"خوکہ\",\"خٌبة\",\"خگہ\",\"خگہوں\",\"خگہیں\",\"خیطب\",\"خیطبکہ\",\"در\",\"درخبت\",\"درخہ\",\"درخے\",\"درزقیقت\",\"درضت\",\"دش\",\"دفعہ\",\"دلچطپ\",\"دلچطپی\",\"دلچطپیبں\",\"دو\",\"دور\",\"دوراى\",\"دوضرا\",\"دوضروں\",\"دوضری\",\"دوضرے\",\"دوًوں\",\"دکھبئیں\",\"دکھبتب\",\"دکھبتی\",\"دکھبتے\",\"دکھبو\",\"دکھبًب\",\"دکھبیب\",\"دی\",\"دیب\",\"دیتب\",\"دیتی\",\"دیتے\",\"دیر\",\"دیٌب\",\"دیکھو\",\"دیکھٌب\",\"دیکھی\",\"دیکھیں\",\"دے\",\"ر\",\"راضتوں\",\"راضتہ\",\"راضتے\",\"رریعہ\",\"رریعے\",\"رکي\",\"رکھ\",\"رکھب\",\"رکھتب\",\"رکھتبہوں\",\"رکھتی\",\"رکھتے\",\"رکھی\",\"رکھے\",\"رہب\",\"رہی\",\"رہے\",\"ز\",\"زبصل\",\"زبضر\",\"زبل\",\"زبلات\",\"زبلیہ\",\"زصوں\",\"زصہ\",\"زصے\",\"زقبئق\",\"زقیتیں\",\"زقیقت\",\"زکن\",\"زکویہ\",\"زیبدٍ\",\"صبف\",\"صسیر\",\"صفر\",\"صورت\",\"صورتسبل\",\"صورتوں\",\"صورتیں\",\"ض\",\"ضبت\",\"ضبتھ\",\"ضبدٍ\",\"ضبرا\",\"ضبرے\",\"ضبل\",\"ضبلوں\",\"ضت\",\"ضرور\",\"ضرورت\",\"ضروری\",\"ضلطلہ\",\"ضوچ\",\"ضوچب\",\"ضوچتب\",\"ضوچتی\",\"ضوچتے\",\"ضوچو\",\"ضوچٌب\",\"ضوچی\",\"ضوچیں\",\"ضکب\",\"ضکتب\",\"ضکتی\",\"ضکتے\",\"ضکٌب\",\"ضکی\",\"ضکے\",\"ضیذھب\",\"ضیذھی\",\"ضیذھے\",\"ضیکٌڈ\",\"ضے\",\"طرف\",\"طریق\",\"طریقوں\",\"طریقہ\",\"طریقے\",\"طور\",\"طورپر\",\"ظبہر\",\"ع\",\"عذد\",\"عظین\",\"علاقوں\",\"علاقہ\",\"علاقے\",\"علاوٍ\",\"عووهی\",\"غبیذ\",\"غخص\",\"غذ\",\"غروع\",\"غروعبت\",\"غے\",\"فرد\",\"فی\",\"ق\",\"قجل\",\"قجیلہ\",\"قطن\",\"لئے\",\"لا\",\"لازهی\",\"لو\",\"لوجب\",\"لوجی\",\"لوجے\",\"لوسبت\",\"لوسہ\",\"لوگ\",\"لوگوں\",\"لڑکپي\",\"لگتب\",\"لگتی\",\"لگتے\",\"لگٌب\",\"لگی\",\"لگیں\",\"لگے\",\"لی\",\"لیب\",\"لیٌب\",\"لیں\",\"لے\",\"ه\",\"هتعلق\",\"هختلف\",\"هسترم\",\"هسترهہ\",\"هسطوش\",\"هسیذ\",\"هطئلہ\",\"هطئلے\",\"هطبئل\",\"هطتعول\",\"هطلق\",\"هعلوم\",\"هػتول\",\"هلا\",\"هوکي\",\"هوکٌبت\",\"هوکٌہ\",\"هٌبضت\",\"هڑا\",\"هڑًب\",\"هڑے\",\"هکول\",\"هگر\",\"هہرثبى\",\"هیرا\",\"هیری\",\"هیرے\",\"هیں\",\"و\",\"وار\",\"والے\",\"وٍ\",\"ًئی\",\"ًئے\",\"ًب\",\"ًبپطٌذ\",\"ًبگسیر\",\"ًطجت\",\"ًقطہ\",\"ًو\",\"ًوخواى\",\"ًکبلٌب\",\"ًکتہ\",\"ًہ\",\"ًہیں\",\"ًیب\",\"ًے\",\"ٓ آش\",\"ٹھیک\",\"پبئے\",\"پبش\",\"پبًب\",\"پبًچ\",\"پر\",\"پراًب\",\"پطٌذ\",\"پل\",\"پورا\",\"پوچھب\",\"پوچھتب\",\"پوچھتی\",\"پوچھتے\",\"پوچھو\",\"پوچھوں\",\"پوچھٌب\",\"پوچھیں\",\"پچھلا\",\"پھر\",\"پہلا\",\"پہلی\",\"پہلےضی\",\"پہلےضے\",\"پہلےضےہی\",\"پیع\",\"چبر\",\"چبہب\",\"چبہٌب\",\"چبہے\",\"چلا\",\"چلو\",\"چلیں\",\"چلے\",\"چکب\",\"چکی\",\"چکیں\",\"چکے\",\"چھوٹب\",\"چھوٹوں\",\"چھوٹی\",\"چھوٹے\",\"چھہ\",\"چیسیں\",\"ڈھوًڈا\",\"ڈھوًڈلیب\",\"ڈھوًڈو\",\"ڈھوًڈًب\",\"ڈھوًڈی\",\"ڈھوًڈیں\",\"ک\",\"کئی\",\"کئے\",\"کب\",\"کبفی\",\"کبم\",\"کت\",\"کجھی\",\"کرا\",\"کرتب\",\"کرتبہوں\",\"کرتی\",\"کرتے\",\"کرتےہو\",\"کررہب\",\"کررہی\",\"کررہے\",\"کرو\",\"کرًب\",\"کریں\",\"کرے\",\"کطی\",\"کل\",\"کن\",\"کوئی\",\"کوتر\",\"کورا\",\"کوروں\",\"کورٍ\",\"کورے\",\"کوطي\",\"کوى\",\"کوًطب\",\"کوًطی\",\"کوًطے\",\"کھولا\",\"کھولو\",\"کھولٌب\",\"کھولی\",\"کھولیں\",\"کھولے\",\"کہ\",\"کہب\",\"کہتب\",\"کہتی\",\"کہتے\",\"کہو\",\"کہوں\",\"کہٌب\",\"کہی\",\"کہیں\",\"کہے\",\"کی\",\"کیب\",\"کیطب\",\"کیطرف\",\"کیطے\",\"کیلئے\",\"کیوًکہ\",\"کیوں\",\"کیے\",\"کے\",\"کےثعذ\",\"کےرریعے\",\"گئی\",\"گئے\",\"گب\",\"گرد\",\"گروٍ\",\"گروپ\",\"گروہوں\",\"گٌتی\",\"گی\",\"گیب\",\"گے\",\"ہر\",\"ہن\",\"ہو\",\"ہوئی\",\"ہوئے\",\"ہوا\",\"ہوبرا\",\"ہوبری\",\"ہوبرے\",\"ہوتب\",\"ہوتی\",\"ہوتے\",\"ہورہب\",\"ہورہی\",\"ہورہے\",\"ہوضکتب\",\"ہوضکتی\",\"ہوضکتے\",\"ہوًب\",\"ہوًی\",\"ہوًے\",\"ہوچکب\",\"ہوچکی\",\"ہوچکے\",\"ہوگئی\",\"ہوگئے\",\"ہوگیب\",\"ہوں\",\"ہی\",\"ہیں\",\"ہے\",\"ی\",\"یقیٌی\",\"یہ\",\"یہبں\"]\n"
          ]
        }
      ]
    },
    {
      "cell_type": "code",
      "source": [
        "import pandas as pd\n",
        "# Define a custom list of Urdu stop words\n",
        "urdu_stop_words = content\n",
        "\n",
        "# Remove stop words from the 'x' column in the DataFrame\n",
        "df['Tweets'] = df['Tweets'].apply(lambda text: [word for word in text if word not in urdu_stop_words])"
      ],
      "metadata": {
        "id": "AAIl-D8ZxTBI"
      },
      "execution_count": 111,
      "outputs": []
    },
    {
      "cell_type": "code",
      "source": [
        "df.head()"
      ],
      "metadata": {
        "id": "AzPs7qxQZ39k",
        "colab": {
          "base_uri": "https://localhost:8080/",
          "height": 206
        },
        "outputId": "133643ae-b095-4f43-a5f6-1c8615cfede5"
      },
      "execution_count": 112,
      "outputs": [
        {
          "output_type": "execute_result",
          "data": {
            "text/plain": [
              "                                              Tweets  label  S/G\n",
              "0                                        [بکواس, مت]      1    1\n",
              "1  [تمہاری, ہیجڑا, فورس, نہتے, سامنے, بکری, بنی, ...      1    0\n",
              "2  [آفیسر, سمیتبھارتی, فوجی, جہنم, واصلبنکرز, تبا...      1    1\n",
              "3              [غدار, منافق, میر, اللہ, تمہیں, زلیل]      1    1\n",
              "4  [اگست, آپ, بھارت, کیا, پیغام, دینا, چاہیں, میر...      1    0"
            ],
            "text/html": [
              "\n",
              "  <div id=\"df-d66399e9-c464-4933-b948-bc104dc0ea1e\">\n",
              "    <div class=\"colab-df-container\">\n",
              "      <div>\n",
              "<style scoped>\n",
              "    .dataframe tbody tr th:only-of-type {\n",
              "        vertical-align: middle;\n",
              "    }\n",
              "\n",
              "    .dataframe tbody tr th {\n",
              "        vertical-align: top;\n",
              "    }\n",
              "\n",
              "    .dataframe thead th {\n",
              "        text-align: right;\n",
              "    }\n",
              "</style>\n",
              "<table border=\"1\" class=\"dataframe\">\n",
              "  <thead>\n",
              "    <tr style=\"text-align: right;\">\n",
              "      <th></th>\n",
              "      <th>Tweets</th>\n",
              "      <th>label</th>\n",
              "      <th>S/G</th>\n",
              "    </tr>\n",
              "  </thead>\n",
              "  <tbody>\n",
              "    <tr>\n",
              "      <th>0</th>\n",
              "      <td>[بکواس, مت]</td>\n",
              "      <td>1</td>\n",
              "      <td>1</td>\n",
              "    </tr>\n",
              "    <tr>\n",
              "      <th>1</th>\n",
              "      <td>[تمہاری, ہیجڑا, فورس, نہتے, سامنے, بکری, بنی, ...</td>\n",
              "      <td>1</td>\n",
              "      <td>0</td>\n",
              "    </tr>\n",
              "    <tr>\n",
              "      <th>2</th>\n",
              "      <td>[آفیسر, سمیتبھارتی, فوجی, جہنم, واصلبنکرز, تبا...</td>\n",
              "      <td>1</td>\n",
              "      <td>1</td>\n",
              "    </tr>\n",
              "    <tr>\n",
              "      <th>3</th>\n",
              "      <td>[غدار, منافق, میر, اللہ, تمہیں, زلیل]</td>\n",
              "      <td>1</td>\n",
              "      <td>1</td>\n",
              "    </tr>\n",
              "    <tr>\n",
              "      <th>4</th>\n",
              "      <td>[اگست, آپ, بھارت, کیا, پیغام, دینا, چاہیں, میر...</td>\n",
              "      <td>1</td>\n",
              "      <td>0</td>\n",
              "    </tr>\n",
              "  </tbody>\n",
              "</table>\n",
              "</div>\n",
              "      <button class=\"colab-df-convert\" onclick=\"convertToInteractive('df-d66399e9-c464-4933-b948-bc104dc0ea1e')\"\n",
              "              title=\"Convert this dataframe to an interactive table.\"\n",
              "              style=\"display:none;\">\n",
              "        \n",
              "  <svg xmlns=\"http://www.w3.org/2000/svg\" height=\"24px\"viewBox=\"0 0 24 24\"\n",
              "       width=\"24px\">\n",
              "    <path d=\"M0 0h24v24H0V0z\" fill=\"none\"/>\n",
              "    <path d=\"M18.56 5.44l.94 2.06.94-2.06 2.06-.94-2.06-.94-.94-2.06-.94 2.06-2.06.94zm-11 1L8.5 8.5l.94-2.06 2.06-.94-2.06-.94L8.5 2.5l-.94 2.06-2.06.94zm10 10l.94 2.06.94-2.06 2.06-.94-2.06-.94-.94-2.06-.94 2.06-2.06.94z\"/><path d=\"M17.41 7.96l-1.37-1.37c-.4-.4-.92-.59-1.43-.59-.52 0-1.04.2-1.43.59L10.3 9.45l-7.72 7.72c-.78.78-.78 2.05 0 2.83L4 21.41c.39.39.9.59 1.41.59.51 0 1.02-.2 1.41-.59l7.78-7.78 2.81-2.81c.8-.78.8-2.07 0-2.86zM5.41 20L4 18.59l7.72-7.72 1.47 1.35L5.41 20z\"/>\n",
              "  </svg>\n",
              "      </button>\n",
              "      \n",
              "  <style>\n",
              "    .colab-df-container {\n",
              "      display:flex;\n",
              "      flex-wrap:wrap;\n",
              "      gap: 12px;\n",
              "    }\n",
              "\n",
              "    .colab-df-convert {\n",
              "      background-color: #E8F0FE;\n",
              "      border: none;\n",
              "      border-radius: 50%;\n",
              "      cursor: pointer;\n",
              "      display: none;\n",
              "      fill: #1967D2;\n",
              "      height: 32px;\n",
              "      padding: 0 0 0 0;\n",
              "      width: 32px;\n",
              "    }\n",
              "\n",
              "    .colab-df-convert:hover {\n",
              "      background-color: #E2EBFA;\n",
              "      box-shadow: 0px 1px 2px rgba(60, 64, 67, 0.3), 0px 1px 3px 1px rgba(60, 64, 67, 0.15);\n",
              "      fill: #174EA6;\n",
              "    }\n",
              "\n",
              "    [theme=dark] .colab-df-convert {\n",
              "      background-color: #3B4455;\n",
              "      fill: #D2E3FC;\n",
              "    }\n",
              "\n",
              "    [theme=dark] .colab-df-convert:hover {\n",
              "      background-color: #434B5C;\n",
              "      box-shadow: 0px 1px 3px 1px rgba(0, 0, 0, 0.15);\n",
              "      filter: drop-shadow(0px 1px 2px rgba(0, 0, 0, 0.3));\n",
              "      fill: #FFFFFF;\n",
              "    }\n",
              "  </style>\n",
              "\n",
              "      <script>\n",
              "        const buttonEl =\n",
              "          document.querySelector('#df-d66399e9-c464-4933-b948-bc104dc0ea1e button.colab-df-convert');\n",
              "        buttonEl.style.display =\n",
              "          google.colab.kernel.accessAllowed ? 'block' : 'none';\n",
              "\n",
              "        async function convertToInteractive(key) {\n",
              "          const element = document.querySelector('#df-d66399e9-c464-4933-b948-bc104dc0ea1e');\n",
              "          const dataTable =\n",
              "            await google.colab.kernel.invokeFunction('convertToInteractive',\n",
              "                                                     [key], {});\n",
              "          if (!dataTable) return;\n",
              "\n",
              "          const docLinkHtml = 'Like what you see? Visit the ' +\n",
              "            '<a target=\"_blank\" href=https://colab.research.google.com/notebooks/data_table.ipynb>data table notebook</a>'\n",
              "            + ' to learn more about interactive tables.';\n",
              "          element.innerHTML = '';\n",
              "          dataTable['output_type'] = 'display_data';\n",
              "          await google.colab.output.renderOutput(dataTable, element);\n",
              "          const docLink = document.createElement('div');\n",
              "          docLink.innerHTML = docLinkHtml;\n",
              "          element.appendChild(docLink);\n",
              "        }\n",
              "      </script>\n",
              "    </div>\n",
              "  </div>\n",
              "  "
            ]
          },
          "metadata": {},
          "execution_count": 112
        }
      ]
    },
    {
      "cell_type": "markdown",
      "source": [
        "**Stemming** "
      ],
      "metadata": {
        "id": "NWJ46IstlpP7"
      }
    },
    {
      "cell_type": "code",
      "source": [
        "!pip install nltk\n",
        "\n"
      ],
      "metadata": {
        "colab": {
          "base_uri": "https://localhost:8080/"
        },
        "id": "3wV2ii3v0WgB",
        "outputId": "12f0f707-2c07-4234-d78e-eb380e5dc498"
      },
      "execution_count": 113,
      "outputs": [
        {
          "output_type": "stream",
          "name": "stdout",
          "text": [
            "Looking in indexes: https://pypi.org/simple, https://us-python.pkg.dev/colab-wheels/public/simple/\n",
            "Requirement already satisfied: nltk in /usr/local/lib/python3.10/dist-packages (3.3)\n",
            "Requirement already satisfied: six in /usr/local/lib/python3.10/dist-packages (from nltk) (1.16.0)\n"
          ]
        }
      ]
    },
    {
      "cell_type": "code",
      "source": [
        "!pip install hazm"
      ],
      "metadata": {
        "colab": {
          "base_uri": "https://localhost:8080/"
        },
        "id": "z9VUWL0m0YJ5",
        "outputId": "2e354953-2a05-462f-f2ea-146ea1460345"
      },
      "execution_count": 114,
      "outputs": [
        {
          "output_type": "stream",
          "name": "stdout",
          "text": [
            "Looking in indexes: https://pypi.org/simple, https://us-python.pkg.dev/colab-wheels/public/simple/\n",
            "Requirement already satisfied: hazm in /usr/local/lib/python3.10/dist-packages (0.7.0)\n",
            "Requirement already satisfied: nltk==3.3 in /usr/local/lib/python3.10/dist-packages (from hazm) (3.3)\n",
            "Requirement already satisfied: libwapiti>=0.2.1 in /usr/local/lib/python3.10/dist-packages (from hazm) (0.2.1)\n",
            "Requirement already satisfied: six in /usr/local/lib/python3.10/dist-packages (from nltk==3.3->hazm) (1.16.0)\n"
          ]
        }
      ]
    },
    {
      "cell_type": "code",
      "source": [
        "from hazm import Stemmer\n",
        "\n",
        "# Initialize the Urdu stemmer\n",
        "urdu_stemmer = Stemmer()\n"
      ],
      "metadata": {
        "id": "h5psx_ZVlo5d"
      },
      "execution_count": 115,
      "outputs": []
    },
    {
      "cell_type": "code",
      "source": [
        "# Apply stemming to the 'Tweets' column in the DataFrame\n",
        "df['Tweets'] = df['Tweets'].apply(lambda text: [urdu_stemmer.stem(word) for word in text])\n"
      ],
      "metadata": {
        "id": "VrLhg_C10Vui"
      },
      "execution_count": 116,
      "outputs": []
    },
    {
      "cell_type": "code",
      "source": [
        "df.head()"
      ],
      "metadata": {
        "colab": {
          "base_uri": "https://localhost:8080/",
          "height": 206
        },
        "id": "HkA0kOlGliWy",
        "outputId": "9b086892-6a67-4aa5-94e0-7223402121fb"
      },
      "execution_count": 117,
      "outputs": [
        {
          "output_type": "execute_result",
          "data": {
            "text/plain": [
              "                                              Tweets  label  S/G\n",
              "0                                         [بکواس, م]      1    1\n",
              "1  [تمہار, ہیجڑا, فورس, نہتے, سامنے, بکر, بن, ڈوب...      1    0\n",
              "2  [آفیسر, سمیتبھارت, فوج, جہن, واصلبنکرز, تباہ, ...      1    1\n",
              "3              [غدار, منافق, میر, اللہ, تمہیں, زلیل]      1    1\n",
              "4  [اگس, آپ, بھار, کیا, پیغا, دینا, چاہیں, میرا, ...      1    0"
            ],
            "text/html": [
              "\n",
              "  <div id=\"df-b6009a2a-f101-4fdc-b599-dfb729b8e69f\">\n",
              "    <div class=\"colab-df-container\">\n",
              "      <div>\n",
              "<style scoped>\n",
              "    .dataframe tbody tr th:only-of-type {\n",
              "        vertical-align: middle;\n",
              "    }\n",
              "\n",
              "    .dataframe tbody tr th {\n",
              "        vertical-align: top;\n",
              "    }\n",
              "\n",
              "    .dataframe thead th {\n",
              "        text-align: right;\n",
              "    }\n",
              "</style>\n",
              "<table border=\"1\" class=\"dataframe\">\n",
              "  <thead>\n",
              "    <tr style=\"text-align: right;\">\n",
              "      <th></th>\n",
              "      <th>Tweets</th>\n",
              "      <th>label</th>\n",
              "      <th>S/G</th>\n",
              "    </tr>\n",
              "  </thead>\n",
              "  <tbody>\n",
              "    <tr>\n",
              "      <th>0</th>\n",
              "      <td>[بکواس, م]</td>\n",
              "      <td>1</td>\n",
              "      <td>1</td>\n",
              "    </tr>\n",
              "    <tr>\n",
              "      <th>1</th>\n",
              "      <td>[تمہار, ہیجڑا, فورس, نہتے, سامنے, بکر, بن, ڈوب...</td>\n",
              "      <td>1</td>\n",
              "      <td>0</td>\n",
              "    </tr>\n",
              "    <tr>\n",
              "      <th>2</th>\n",
              "      <td>[آفیسر, سمیتبھارت, فوج, جہن, واصلبنکرز, تباہ, ...</td>\n",
              "      <td>1</td>\n",
              "      <td>1</td>\n",
              "    </tr>\n",
              "    <tr>\n",
              "      <th>3</th>\n",
              "      <td>[غدار, منافق, میر, اللہ, تمہیں, زلیل]</td>\n",
              "      <td>1</td>\n",
              "      <td>1</td>\n",
              "    </tr>\n",
              "    <tr>\n",
              "      <th>4</th>\n",
              "      <td>[اگس, آپ, بھار, کیا, پیغا, دینا, چاہیں, میرا, ...</td>\n",
              "      <td>1</td>\n",
              "      <td>0</td>\n",
              "    </tr>\n",
              "  </tbody>\n",
              "</table>\n",
              "</div>\n",
              "      <button class=\"colab-df-convert\" onclick=\"convertToInteractive('df-b6009a2a-f101-4fdc-b599-dfb729b8e69f')\"\n",
              "              title=\"Convert this dataframe to an interactive table.\"\n",
              "              style=\"display:none;\">\n",
              "        \n",
              "  <svg xmlns=\"http://www.w3.org/2000/svg\" height=\"24px\"viewBox=\"0 0 24 24\"\n",
              "       width=\"24px\">\n",
              "    <path d=\"M0 0h24v24H0V0z\" fill=\"none\"/>\n",
              "    <path d=\"M18.56 5.44l.94 2.06.94-2.06 2.06-.94-2.06-.94-.94-2.06-.94 2.06-2.06.94zm-11 1L8.5 8.5l.94-2.06 2.06-.94-2.06-.94L8.5 2.5l-.94 2.06-2.06.94zm10 10l.94 2.06.94-2.06 2.06-.94-2.06-.94-.94-2.06-.94 2.06-2.06.94z\"/><path d=\"M17.41 7.96l-1.37-1.37c-.4-.4-.92-.59-1.43-.59-.52 0-1.04.2-1.43.59L10.3 9.45l-7.72 7.72c-.78.78-.78 2.05 0 2.83L4 21.41c.39.39.9.59 1.41.59.51 0 1.02-.2 1.41-.59l7.78-7.78 2.81-2.81c.8-.78.8-2.07 0-2.86zM5.41 20L4 18.59l7.72-7.72 1.47 1.35L5.41 20z\"/>\n",
              "  </svg>\n",
              "      </button>\n",
              "      \n",
              "  <style>\n",
              "    .colab-df-container {\n",
              "      display:flex;\n",
              "      flex-wrap:wrap;\n",
              "      gap: 12px;\n",
              "    }\n",
              "\n",
              "    .colab-df-convert {\n",
              "      background-color: #E8F0FE;\n",
              "      border: none;\n",
              "      border-radius: 50%;\n",
              "      cursor: pointer;\n",
              "      display: none;\n",
              "      fill: #1967D2;\n",
              "      height: 32px;\n",
              "      padding: 0 0 0 0;\n",
              "      width: 32px;\n",
              "    }\n",
              "\n",
              "    .colab-df-convert:hover {\n",
              "      background-color: #E2EBFA;\n",
              "      box-shadow: 0px 1px 2px rgba(60, 64, 67, 0.3), 0px 1px 3px 1px rgba(60, 64, 67, 0.15);\n",
              "      fill: #174EA6;\n",
              "    }\n",
              "\n",
              "    [theme=dark] .colab-df-convert {\n",
              "      background-color: #3B4455;\n",
              "      fill: #D2E3FC;\n",
              "    }\n",
              "\n",
              "    [theme=dark] .colab-df-convert:hover {\n",
              "      background-color: #434B5C;\n",
              "      box-shadow: 0px 1px 3px 1px rgba(0, 0, 0, 0.15);\n",
              "      filter: drop-shadow(0px 1px 2px rgba(0, 0, 0, 0.3));\n",
              "      fill: #FFFFFF;\n",
              "    }\n",
              "  </style>\n",
              "\n",
              "      <script>\n",
              "        const buttonEl =\n",
              "          document.querySelector('#df-b6009a2a-f101-4fdc-b599-dfb729b8e69f button.colab-df-convert');\n",
              "        buttonEl.style.display =\n",
              "          google.colab.kernel.accessAllowed ? 'block' : 'none';\n",
              "\n",
              "        async function convertToInteractive(key) {\n",
              "          const element = document.querySelector('#df-b6009a2a-f101-4fdc-b599-dfb729b8e69f');\n",
              "          const dataTable =\n",
              "            await google.colab.kernel.invokeFunction('convertToInteractive',\n",
              "                                                     [key], {});\n",
              "          if (!dataTable) return;\n",
              "\n",
              "          const docLinkHtml = 'Like what you see? Visit the ' +\n",
              "            '<a target=\"_blank\" href=https://colab.research.google.com/notebooks/data_table.ipynb>data table notebook</a>'\n",
              "            + ' to learn more about interactive tables.';\n",
              "          element.innerHTML = '';\n",
              "          dataTable['output_type'] = 'display_data';\n",
              "          await google.colab.output.renderOutput(dataTable, element);\n",
              "          const docLink = document.createElement('div');\n",
              "          docLink.innerHTML = docLinkHtml;\n",
              "          element.appendChild(docLink);\n",
              "        }\n",
              "      </script>\n",
              "    </div>\n",
              "  </div>\n",
              "  "
            ]
          },
          "metadata": {},
          "execution_count": 117
        }
      ]
    },
    {
      "cell_type": "markdown",
      "source": [
        "**Model**"
      ],
      "metadata": {
        "id": "iCclTs7o5JEn"
      }
    },
    {
      "cell_type": "code",
      "source": [
        "import numpy as np\n",
        "from sklearn.feature_extraction.text import CountVectorizer\n",
        "from sklearn.model_selection import train_test_split\n",
        "from sklearn.tree import DecisionTreeClassifier"
      ],
      "metadata": {
        "id": "YT-NdogW5bYe"
      },
      "execution_count": 118,
      "outputs": []
    },
    {
      "cell_type": "code",
      "source": [
        "x = np.array(df[\"Tweets\"])\n",
        "y = np.array(df[\"label\"])"
      ],
      "metadata": {
        "id": "sqZykPYc1VQI"
      },
      "execution_count": 119,
      "outputs": []
    },
    {
      "cell_type": "code",
      "source": [
        "cv = CountVectorizer()\n",
        "X = cv.fit_transform(df['Tweets'].apply(lambda x: ' '.join(x)))\n",
        "y = df['label']\n",
        "X_train, X_test, y_train, y_test = train_test_split(X, y, test_size=0.2, random_state=42)\n"
      ],
      "metadata": {
        "id": "KXNUXlsr5UyF"
      },
      "execution_count": 120,
      "outputs": []
    },
    {
      "cell_type": "code",
      "source": [
        "from sklearn.linear_model import LogisticRegression\n",
        "from sklearn.metrics import accuracy_score\n",
        "\n",
        "# Create an instance of Logistic Regression\n",
        "logreg = LogisticRegression()\n",
        "\n",
        "# Fit the model on the training data\n",
        "logreg.fit(X_train, y_train)\n",
        "\n",
        "# Make predictions on the test data\n",
        "y_pred = logreg.predict(X_test)\n",
        "\n",
        "# Calculate the accuracy of the model\n",
        "accuracy = accuracy_score(y_test, y_pred)\n",
        "print(\"Accuracy:\", accuracy)\n"
      ],
      "metadata": {
        "colab": {
          "base_uri": "https://localhost:8080/"
        },
        "id": "QfaG-01K7WAR",
        "outputId": "e2383fc2-9e3a-4ccd-e74b-18ed545e733f"
      },
      "execution_count": 121,
      "outputs": [
        {
          "output_type": "stream",
          "name": "stdout",
          "text": [
            "Accuracy: 0.7012622720897616\n"
          ]
        }
      ]
    },
    {
      "cell_type": "code",
      "source": [
        "from sklearn.naive_bayes import MultinomialNB\n",
        "from sklearn.metrics import accuracy_score\n",
        "\n",
        "# Create an instance of Multinomial Naive Bayes\n",
        "naive_bayes = MultinomialNB()\n",
        "\n",
        "# Fit the model on the training data\n",
        "naive_bayes.fit(X_train, y_train)\n",
        "\n",
        "# Make predictions on the test data\n",
        "y_pred = naive_bayes.predict(X_test)\n",
        "\n",
        "# Calculate the accuracy of the model\n",
        "accuracy = accuracy_score(y_test, y_pred)\n",
        "print(\"Accuracy:\", accuracy)\n"
      ],
      "metadata": {
        "colab": {
          "base_uri": "https://localhost:8080/"
        },
        "id": "my2HQ_Fq9EWL",
        "outputId": "bc7aa198-e960-4b64-92c3-95aafde768bb"
      },
      "execution_count": 122,
      "outputs": [
        {
          "output_type": "stream",
          "name": "stdout",
          "text": [
            "Accuracy: 0.7321178120617111\n"
          ]
        }
      ]
    },
    {
      "cell_type": "code",
      "source": [
        "from sklearn.svm import SVC\n",
        "from sklearn.metrics import accuracy_score\n",
        "\n",
        "# Create an instance of SVM\n",
        "svm = SVC()\n",
        "\n",
        "# Fit the model on the training data\n",
        "svm.fit(X_train, y_train)\n",
        "\n",
        "# Make predictions on the test data\n",
        "y_pred = svm.predict(X_test)\n",
        "\n",
        "# Calculate the accuracy of the model\n",
        "accuracy = accuracy_score(y_test, y_pred)\n",
        "print(\"Accuracy:\", accuracy)\n"
      ],
      "metadata": {
        "colab": {
          "base_uri": "https://localhost:8080/"
        },
        "id": "Wf7c1G1h9E1Q",
        "outputId": "6d3180bf-c903-4567-c9db-3038d93c5238"
      },
      "execution_count": 123,
      "outputs": [
        {
          "output_type": "stream",
          "name": "stdout",
          "text": [
            "Accuracy: 0.7110799438990182\n"
          ]
        }
      ]
    }
  ]
}